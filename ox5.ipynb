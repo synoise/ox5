{
 "cells": [
  {
   "cell_type": "code",
   "execution_count": 1,
   "outputs": [],
   "source": [
    "%matplotlib inline\n",
    "from game.agents.human import Human\n",
    "from game.agents.dqn_at_last import DQNAgentAtLast\n",
    "from game.tic_tac_toe import TicTacToeGame, GamePlayer, TicTacToeAction\n",
    "from game.utils import play_game, play_games, plot_game_results\n",
    "from game.agents import RandomAgent, DQNAgent\n",
    "pass"
   ],
   "metadata": {
    "collapsed": false
   }
  },
  {
   "cell_type": "code",
   "execution_count": 2,
   "outputs": [
    {
     "name": "stdout",
     "output_type": "stream",
     "text": [
      "Model: \"model\"\n",
      "__________________________________________________________________________________________________\n",
      " Layer (type)                   Output Shape         Param #     Connected to                     \n",
      "==================================================================================================\n",
      " input_1 (InputLayer)           [(None, 300)]        0           []                               \n",
      "                                                                                                  \n",
      " dense (Dense)                  (None, 30000)        9030000     ['input_1[0][0]']                \n",
      "                                                                                                  \n",
      " dense_1 (Dense)                (None, 1)            30001       ['dense[0][0]']                  \n",
      "                                                                                                  \n",
      " dense_2 (Dense)                (None, 100)          3000100     ['dense[0][0]']                  \n",
      "                                                                                                  \n",
      " lambda (Lambda)                (None, 1)            0           ['dense_1[0][0]']                \n",
      "                                                                                                  \n",
      " lambda_1 (Lambda)              (None, 100)          0           ['dense_2[0][0]']                \n",
      "                                                                                                  \n",
      " add (Add)                      (None, 100)          0           ['lambda[0][0]',                 \n",
      "                                                                  'lambda_1[0][0]']               \n",
      "                                                                                                  \n",
      "==================================================================================================\n",
      "Total params: 12,060,101\n",
      "Trainable params: 12,060,101\n",
      "Non-trainable params: 0\n",
      "__________________________________________________________________________________________________\n",
      "Model: \"model\"\n",
      "__________________________________________________________________________________________________\n",
      " Layer (type)                   Output Shape         Param #     Connected to                     \n",
      "==================================================================================================\n",
      " input_1 (InputLayer)           [(None, 300)]        0           []                               \n",
      "                                                                                                  \n",
      " dense (Dense)                  (None, 30000)        9030000     ['input_1[0][0]']                \n",
      "                                                                                                  \n",
      " dense_1 (Dense)                (None, 1)            30001       ['dense[0][0]']                  \n",
      "                                                                                                  \n",
      " dense_2 (Dense)                (None, 100)          3000100     ['dense[0][0]']                  \n",
      "                                                                                                  \n",
      " lambda (Lambda)                (None, 1)            0           ['dense_1[0][0]']                \n",
      "                                                                                                  \n",
      " lambda_1 (Lambda)              (None, 100)          0           ['dense_2[0][0]']                \n",
      "                                                                                                  \n",
      " add (Add)                      (None, 100)          0           ['lambda[0][0]',                 \n",
      "                                                                  'lambda_1[0][0]']               \n",
      "                                                                                                  \n",
      "==================================================================================================\n",
      "Total params: 12,060,101\n",
      "Trainable params: 12,060,101\n",
      "Non-trainable params: 0\n",
      "__________________________________________________________________________________________________\n"
     ]
    }
   ],
   "source": [
    "\n",
    "\n",
    "dqn_first = DQNAgentAtLast(i_agent=0,\n",
    "                     is_learning=True,\n",
    "                     learning_rate=1e-3,\n",
    "                     gamma=0.95,\n",
    "                     epsilon=0.5,\n",
    "                     epsilon_end=0.001,\n",
    "                     epsilon_decay_linear=1 / 2000,\n",
    "                     experience_replay_batch_size=128,\n",
    "                     pre_training_games = 50,\n",
    "                     memory_size=10000,\n",
    "                     reward_draw=5.,\n",
    "                     reward_win=10.,\n",
    "                     reward_loss=-10.,\n",
    "                     double_dqn=True,\n",
    "                     double_dqn_n_games=1,\n",
    "                     dueling_dqn=True,\n",
    "                     seed=42)\n",
    "\n",
    "dqn_second = DQNAgent(i_agent=1,\n",
    "                           is_learning=True,\n",
    "                           learning_rate=0.01,\n",
    "                           gamma=0.99,\n",
    "                           epsilon=0.9,\n",
    "                           epsilon_end=0.1,\n",
    "                           epsilon_decay_linear=1 / 2000,\n",
    "                           experience_replay_batch_size=64,\n",
    "                           pre_training_games = 50,\n",
    "                           memory_size=20000,\n",
    "                           reward_draw=5.,\n",
    "                           reward_win=10.,\n",
    "                           reward_loss=-10.,\n",
    "                           double_dqn=True,\n",
    "                           double_dqn_n_games=1,\n",
    "                           dueling_dqn=True,\n",
    "                           seed=42)\n",
    "\n",
    "# human = Human(0)\n",
    "dqn_first.model.summary()\n",
    "# dqn_second.model.summary()\n",
    "\n",
    "path_model1 = 'D:\\Xagents_DQN\\dqnagent-first1.h5'\n",
    "# path_model2 = 'D:\\Xagents_DQN\\dqnagent-second2.h5'\n",
    "#\n",
    "dqn_first.loadModel(path_model1)\n",
    "# dqn_second.loadModel(path_model2)\n",
    "\n",
    "randomAgent = RandomAgent(1)\n",
    "\n",
    "dqn_first.model.summary()\n",
    "# dqn_second.model.summary()\n",
    "pass"
   ],
   "metadata": {
    "collapsed": false
   }
  },
  {
   "cell_type": "markdown",
   "source": [
    "DQN vs DQN"
   ],
   "metadata": {
    "collapsed": false
   }
  },
  {
   "cell_type": "code",
   "execution_count": 3,
   "outputs": [
    {
     "ename": "TypeError",
     "evalue": "getRow() takes 6 positional arguments but 7 were given",
     "output_type": "error",
     "traceback": [
      "\u001B[1;31m---------------------------------------------------------------------------\u001B[0m",
      "\u001B[1;31mTypeError\u001B[0m                                 Traceback (most recent call last)",
      "Cell \u001B[1;32mIn[3], line 2\u001B[0m\n\u001B[0;32m      1\u001B[0m \u001B[38;5;28;01mfor\u001B[39;00m I \u001B[38;5;129;01min\u001B[39;00m \u001B[38;5;28mrange\u001B[39m(\u001B[38;5;241m10\u001B[39m):\n\u001B[1;32m----> 2\u001B[0m     results \u001B[38;5;241m=\u001B[39m \u001B[43mplay_games\u001B[49m\u001B[43m(\u001B[49m\u001B[38;5;28;43;01mlambda\u001B[39;49;00m\u001B[43m:\u001B[49m\u001B[43m \u001B[49m\u001B[43mTicTacToeGame\u001B[49m\u001B[43m(\u001B[49m\u001B[43m)\u001B[49m\u001B[43m,\u001B[49m\u001B[43m \u001B[49m\u001B[43m[\u001B[49m\u001B[43mdqn_first\u001B[49m\u001B[43m,\u001B[49m\u001B[43m \u001B[49m\u001B[43mdqn_second\u001B[49m\u001B[43m]\u001B[49m\u001B[43m,\u001B[49m\u001B[43m \u001B[49m\u001B[38;5;241;43m100\u001B[39;49m\u001B[43m,\u001B[49m\u001B[43m \u001B[49m\u001B[43mplot\u001B[49m\u001B[43m \u001B[49m\u001B[38;5;241;43m=\u001B[39;49m\u001B[43m \u001B[49m\u001B[38;5;28;43;01mFalse\u001B[39;49;00m\u001B[43m)\u001B[49m\n\u001B[0;32m      3\u001B[0m     \u001B[38;5;28mprint\u001B[39m(\u001B[38;5;124m\"\u001B[39m\u001B[38;5;124mepoka: \u001B[39m\u001B[38;5;124m\"\u001B[39m \u001B[38;5;241m+\u001B[39m \u001B[38;5;28mstr\u001B[39m(I) \u001B[38;5;241m+\u001B[39m \u001B[38;5;124m\"\u001B[39m\u001B[38;5;124m   ---->\u001B[39m\u001B[38;5;124m\"\u001B[39m)\n\u001B[0;32m      4\u001B[0m     plot_game_results(results, \u001B[38;5;241m2\u001B[39m)\n",
      "File \u001B[1;32m~\\PycharmProjects\\ox5-ts\\game\\utils.py:34\u001B[0m, in \u001B[0;36mplay_games\u001B[1;34m(create_game, agents, n_games, debug, plot, plot_window, plot_update_n_games)\u001B[0m\n\u001B[0;32m     32\u001B[0m \u001B[38;5;28;01mfor\u001B[39;00m i \u001B[38;5;129;01min\u001B[39;00m \u001B[38;5;28mrange\u001B[39m(n_games):\n\u001B[0;32m     33\u001B[0m     game \u001B[38;5;241m=\u001B[39m create_game()\n\u001B[1;32m---> 34\u001B[0m     winners \u001B[38;5;241m=\u001B[39m \u001B[43mplay_game\u001B[49m\u001B[43m(\u001B[49m\u001B[43mgame\u001B[49m\u001B[43m,\u001B[49m\u001B[43m \u001B[49m\u001B[43magents\u001B[49m\u001B[43m)\u001B[49m\n\u001B[0;32m     35\u001B[0m     \u001B[38;5;28;01mif\u001B[39;00m \u001B[38;5;28mlen\u001B[39m(winners) \u001B[38;5;241m>\u001B[39m \u001B[38;5;241m1\u001B[39m:\n\u001B[0;32m     36\u001B[0m         results\u001B[38;5;241m.\u001B[39mappend(\u001B[38;5;241m-\u001B[39m\u001B[38;5;241m1\u001B[39m)\n",
      "File \u001B[1;32m~\\PycharmProjects\\ox5-ts\\game\\utils.py:15\u001B[0m, in \u001B[0;36mplay_game\u001B[1;34m(game, agents)\u001B[0m\n\u001B[0;32m     12\u001B[0m \u001B[38;5;28;01mfor\u001B[39;00m agent \u001B[38;5;129;01min\u001B[39;00m agents:\n\u001B[0;32m     13\u001B[0m     agent\u001B[38;5;241m.\u001B[39mnew_game(game)\n\u001B[1;32m---> 15\u001B[0m \u001B[38;5;28;01mwhile\u001B[39;00m \u001B[38;5;129;01mnot\u001B[39;00m \u001B[43magents\u001B[49m\u001B[43m[\u001B[49m\u001B[43mgame\u001B[49m\u001B[38;5;241;43m.\u001B[39;49m\u001B[43mget_current_agent\u001B[49m\u001B[43m(\u001B[49m\u001B[43m)\u001B[49m\u001B[43m]\u001B[49m\u001B[38;5;241;43m.\u001B[39;49m\u001B[43mnext\u001B[49m\u001B[43m(\u001B[49m\u001B[43mgame\u001B[49m\u001B[43m)\u001B[49m:\n\u001B[0;32m     16\u001B[0m     \u001B[38;5;66;03m# print(game.__str__())\u001B[39;00m\n\u001B[0;32m     17\u001B[0m     \u001B[38;5;28;01mpass\u001B[39;00m\n\u001B[0;32m     19\u001B[0m \u001B[38;5;28mprint\u001B[39m(game\u001B[38;5;241m.\u001B[39m\u001B[38;5;21m__str__\u001B[39m())\n",
      "File \u001B[1;32m~\\PycharmProjects\\ox5-ts\\game\\agents\\dqn.py:319\u001B[0m, in \u001B[0;36mDQNAgent.next\u001B[1;34m(self, game)\u001B[0m\n\u001B[0;32m    316\u001B[0m \u001B[38;5;28;01mdef\u001B[39;00m \u001B[38;5;21mnext\u001B[39m(\u001B[38;5;28mself\u001B[39m, game: TicTacToeGame) \u001B[38;5;241m-\u001B[39m\u001B[38;5;241m>\u001B[39m \u001B[38;5;28mbool\u001B[39m:\n\u001B[0;32m    317\u001B[0m     \u001B[38;5;66;03m# Store previous action in action log.\u001B[39;00m\n\u001B[0;32m    318\u001B[0m     \u001B[38;5;66;03m# that is why we commit here and in end_game().\u001B[39;00m\n\u001B[1;32m--> 319\u001B[0m     \u001B[38;5;28;43mself\u001B[39;49m\u001B[38;5;241;43m.\u001B[39;49m\u001B[43mcommit_log\u001B[49m\u001B[43m(\u001B[49m\u001B[43mgame\u001B[49m\u001B[43m,\u001B[49m\u001B[43m \u001B[49m\u001B[38;5;28;43;01mFalse\u001B[39;49;00m\u001B[43m)\u001B[49m\n\u001B[0;32m    321\u001B[0m     \u001B[38;5;28;01mif\u001B[39;00m \u001B[38;5;28mself\u001B[39m\u001B[38;5;241m.\u001B[39mis_learning \u001B[38;5;129;01mand\u001B[39;00m (\n\u001B[0;32m    322\u001B[0m             \u001B[38;5;28mself\u001B[39m\u001B[38;5;241m.\u001B[39mnum_games \u001B[38;5;241m<\u001B[39m \u001B[38;5;28mself\u001B[39m\u001B[38;5;241m.\u001B[39mpre_training_games \u001B[38;5;129;01mor\u001B[39;00m\n\u001B[0;32m    323\u001B[0m             random\u001B[38;5;241m.\u001B[39muniform(\u001B[38;5;241m0\u001B[39m, \u001B[38;5;241m1\u001B[39m) \u001B[38;5;241m<\u001B[39m lerp([\u001B[38;5;28mself\u001B[39m\u001B[38;5;241m.\u001B[39mepsilon, \u001B[38;5;28mself\u001B[39m\u001B[38;5;241m.\u001B[39mepsilon_end], \u001B[38;5;28mmax\u001B[39m(\u001B[38;5;241m0\u001B[39m,\n\u001B[0;32m    324\u001B[0m                                                                               \u001B[38;5;28mself\u001B[39m\u001B[38;5;241m.\u001B[39mnum_games \u001B[38;5;241m-\u001B[39m \u001B[38;5;28mself\u001B[39m\u001B[38;5;241m.\u001B[39mpre_training_games) \u001B[38;5;241m*\u001B[39m \u001B[38;5;28mself\u001B[39m\u001B[38;5;241m.\u001B[39mepsilon_decay_linear)\n\u001B[0;32m    325\u001B[0m     ):\n\u001B[0;32m    326\u001B[0m         action \u001B[38;5;241m=\u001B[39m random\u001B[38;5;241m.\u001B[39mchoice(game\u001B[38;5;241m.\u001B[39mget_legal_actions(\u001B[38;5;28mself\u001B[39m\u001B[38;5;241m.\u001B[39mi_agent))\n",
      "File \u001B[1;32m~\\PycharmProjects\\ox5-ts\\game\\agents\\dqn.py:266\u001B[0m, in \u001B[0;36mDQNAgent.commit_log\u001B[1;34m(self, game, done)\u001B[0m\n\u001B[0;32m    264\u001B[0m state, i_action \u001B[38;5;241m=\u001B[39m \u001B[38;5;28mself\u001B[39m\u001B[38;5;241m.\u001B[39mstage\n\u001B[0;32m    265\u001B[0m next_state \u001B[38;5;241m=\u001B[39m \u001B[38;5;28mself\u001B[39m\u001B[38;5;241m.\u001B[39mget_model_inputs(game)\u001B[38;5;241m.\u001B[39mcopy()\n\u001B[1;32m--> 266\u001B[0m reward \u001B[38;5;241m=\u001B[39m \u001B[38;5;28;43mself\u001B[39;49m\u001B[38;5;241;43m.\u001B[39;49m\u001B[43mget_reward\u001B[49m\u001B[43m(\u001B[49m\u001B[43mgame\u001B[49m\u001B[43m,\u001B[49m\u001B[43m \u001B[49m\u001B[43mi_action\u001B[49m\u001B[43m)\u001B[49m\n\u001B[0;32m    267\u001B[0m \u001B[38;5;28mself\u001B[39m\u001B[38;5;241m.\u001B[39mgame_log\u001B[38;5;241m.\u001B[39mappend((state, i_action, reward, next_state, done))\n\u001B[0;32m    268\u001B[0m \u001B[38;5;28mself\u001B[39m\u001B[38;5;241m.\u001B[39mstage \u001B[38;5;241m=\u001B[39m \u001B[38;5;28;01mNone\u001B[39;00m\n",
      "File \u001B[1;32m~\\PycharmProjects\\ox5-ts\\game\\agents\\dqn.py:110\u001B[0m, in \u001B[0;36mDQNAgent.get_reward\u001B[1;34m(self, game, i_action)\u001B[0m\n\u001B[0;32m    108\u001B[0m         \u001B[38;5;28;01mreturn\u001B[39;00m \u001B[38;5;28mself\u001B[39m\u001B[38;5;241m.\u001B[39mreward_loss\n\u001B[0;32m    109\u001B[0m \u001B[38;5;28;01melse\u001B[39;00m:\n\u001B[1;32m--> 110\u001B[0m     \u001B[38;5;28;01mreturn\u001B[39;00m \u001B[38;5;28;43mself\u001B[39;49m\u001B[38;5;241;43m.\u001B[39;49m\u001B[43maward2\u001B[49m\u001B[43m(\u001B[49m\u001B[43mgame\u001B[49m\u001B[38;5;241;43m.\u001B[39;49m\u001B[43mboard\u001B[49m\u001B[38;5;241;43m.\u001B[39;49m\u001B[43mtolist\u001B[49m\u001B[43m(\u001B[49m\u001B[43m)\u001B[49m\u001B[43m,\u001B[49m\u001B[43m \u001B[49m\u001B[43mi_action\u001B[49m\u001B[43m,\u001B[49m\u001B[43mgame\u001B[49m\u001B[38;5;241;43m.\u001B[39;49m\u001B[43mboard\u001B[49m\u001B[43m[\u001B[49m\u001B[43mi_action\u001B[49m\u001B[43m]\u001B[49m\u001B[43m \u001B[49m\u001B[43m)\u001B[49m\n",
      "File \u001B[1;32m~\\PycharmProjects\\ox5-ts\\game\\agents\\dqn.py:170\u001B[0m, in \u001B[0;36mDQNAgent.award2\u001B[1;34m(self, tab, cell, agent)\u001B[0m\n\u001B[0;32m    167\u001B[0m mi \u001B[38;5;241m=\u001B[39m cell \u001B[38;5;241m/\u001B[39m\u001B[38;5;241m/\u001B[39m BOARD_DIM \u001B[38;5;241m*\u001B[39m BOARD_DIM\n\u001B[0;32m    168\u001B[0m award \u001B[38;5;241m=\u001B[39m \u001B[38;5;241m0\u001B[39m\n\u001B[1;32m--> 170\u001B[0m award \u001B[38;5;241m+\u001B[39m\u001B[38;5;241m=\u001B[39m \u001B[38;5;28;43mself\u001B[39;49m\u001B[38;5;241;43m.\u001B[39;49m\u001B[43mgetRow\u001B[49m\u001B[43m(\u001B[49m\u001B[38;5;28;43mself\u001B[39;49m\u001B[38;5;241;43m.\u001B[39;49m\u001B[43mmini\u001B[49m\u001B[43m(\u001B[49m\u001B[43mcell\u001B[49m\u001B[43m \u001B[49m\u001B[38;5;241;43m+\u001B[39;49m\u001B[43m \u001B[49m\u001B[38;5;241;43m1\u001B[39;49m\u001B[43m,\u001B[49m\u001B[43m \u001B[49m\u001B[43mmi\u001B[49m\u001B[43m)\u001B[49m\u001B[43m,\u001B[49m\u001B[43m \u001B[49m\u001B[38;5;28;43mself\u001B[39;49m\u001B[38;5;241;43m.\u001B[39;49m\u001B[43mmini\u001B[49m\u001B[43m(\u001B[49m\u001B[43mcell\u001B[49m\u001B[43m \u001B[49m\u001B[38;5;241;43m+\u001B[39;49m\u001B[43m \u001B[49m\u001B[38;5;241;43m2\u001B[39;49m\u001B[43m,\u001B[49m\u001B[43m \u001B[49m\u001B[43mmi\u001B[49m\u001B[43m)\u001B[49m\u001B[43m,\u001B[49m\u001B[43m \u001B[49m\u001B[38;5;28;43mself\u001B[39;49m\u001B[38;5;241;43m.\u001B[39;49m\u001B[43mmini\u001B[49m\u001B[43m(\u001B[49m\u001B[43mcell\u001B[49m\u001B[43m \u001B[49m\u001B[38;5;241;43m+\u001B[39;49m\u001B[43m \u001B[49m\u001B[38;5;241;43m3\u001B[39;49m\u001B[43m,\u001B[49m\u001B[43m \u001B[49m\u001B[43mmi\u001B[49m\u001B[43m)\u001B[49m\u001B[43m,\u001B[49m\n\u001B[0;32m    171\u001B[0m \u001B[43m                \u001B[49m\u001B[38;5;28;43mself\u001B[39;49m\u001B[38;5;241;43m.\u001B[39;49m\u001B[43mmini\u001B[49m\u001B[43m(\u001B[49m\u001B[43mcell\u001B[49m\u001B[43m \u001B[49m\u001B[38;5;241;43m+\u001B[39;49m\u001B[43m \u001B[49m\u001B[38;5;241;43m4\u001B[39;49m\u001B[43m,\u001B[49m\u001B[43m \u001B[49m\u001B[43mmi\u001B[49m\u001B[43m)\u001B[49m\u001B[43m,\u001B[49m\u001B[43m \u001B[49m\u001B[43mtab\u001B[49m\u001B[43m,\u001B[49m\u001B[43m \u001B[49m\u001B[43magent\u001B[49m\u001B[43m)\u001B[49m\n\u001B[0;32m    172\u001B[0m award \u001B[38;5;241m+\u001B[39m\u001B[38;5;241m=\u001B[39m \u001B[38;5;28mself\u001B[39m\u001B[38;5;241m.\u001B[39mgetRow(\u001B[38;5;28mself\u001B[39m\u001B[38;5;241m.\u001B[39mmaxi(cell \u001B[38;5;241m-\u001B[39m \u001B[38;5;241m1\u001B[39m, mi), \u001B[38;5;28mself\u001B[39m\u001B[38;5;241m.\u001B[39mmaxi(cell \u001B[38;5;241m-\u001B[39m \u001B[38;5;241m2\u001B[39m, mi), \u001B[38;5;28mself\u001B[39m\u001B[38;5;241m.\u001B[39mmaxi(cell \u001B[38;5;241m-\u001B[39m \u001B[38;5;241m3\u001B[39m, mi),\n\u001B[0;32m    173\u001B[0m                 \u001B[38;5;28mself\u001B[39m\u001B[38;5;241m.\u001B[39mmaxi(cell \u001B[38;5;241m-\u001B[39m \u001B[38;5;241m4\u001B[39m, mi), tab, agent)\n\u001B[0;32m    174\u001B[0m award \u001B[38;5;241m+\u001B[39m\u001B[38;5;241m=\u001B[39m \u001B[38;5;28mself\u001B[39m\u001B[38;5;241m.\u001B[39mgetRow(\u001B[38;5;28mself\u001B[39m\u001B[38;5;241m.\u001B[39mmini(cell \u001B[38;5;241m+\u001B[39m BOARD_DIM, \u001B[38;5;28mself\u001B[39m\u001B[38;5;241m.\u001B[39mmaxLen2), \u001B[38;5;28mself\u001B[39m\u001B[38;5;241m.\u001B[39mmini(cell \u001B[38;5;241m+\u001B[39m \u001B[38;5;241m2\u001B[39m \u001B[38;5;241m*\u001B[39m BOARD_DIM, \u001B[38;5;28mself\u001B[39m\u001B[38;5;241m.\u001B[39mmaxLen2),\n\u001B[0;32m    175\u001B[0m                 \u001B[38;5;28mself\u001B[39m\u001B[38;5;241m.\u001B[39mmini(cell \u001B[38;5;241m+\u001B[39m \u001B[38;5;241m3\u001B[39m \u001B[38;5;241m*\u001B[39m BOARD_DIM, \u001B[38;5;28mself\u001B[39m\u001B[38;5;241m.\u001B[39mmaxLen2), \u001B[38;5;28mself\u001B[39m\u001B[38;5;241m.\u001B[39mmini(cell \u001B[38;5;241m+\u001B[39m \u001B[38;5;241m4\u001B[39m \u001B[38;5;241m*\u001B[39m BOARD_DIM, \u001B[38;5;28mself\u001B[39m\u001B[38;5;241m.\u001B[39mmaxLen2),\n\u001B[0;32m    176\u001B[0m                 tab, agent)\n",
      "\u001B[1;31mTypeError\u001B[0m: getRow() takes 6 positional arguments but 7 were given"
     ]
    }
   ],
   "source": [
    "for I in range(10):\n",
    "    results = play_games(lambda: TicTacToeGame(), [dqn_first, dqn_second], 100, plot = False)\n",
    "    print(\"epoka: \" + str(I) + \"   ---->\")\n",
    "    plot_game_results(results, 2)\n",
    "    dqn_first.saveModel(path_model1)\n",
    "    dqn_second.saveModel(path_model2)\n",
    "    # break\n",
    "pass"
   ],
   "metadata": {
    "collapsed": false
   }
  },
  {
   "cell_type": "markdown",
   "source": [
    "DQN2 vs Human ---------------"
   ],
   "metadata": {
    "collapsed": false
   }
  },
  {
   "cell_type": "code",
   "execution_count": null,
   "metadata": {
    "pycharm": {
     "is_executing": true
    }
   },
   "outputs": [
    {
     "name": "stdout",
     "output_type": "stream",
     "text": [
      "1/1 [==============================] - 0s 49ms/step\n"
     ]
    },
    {
     "name": "stderr",
     "output_type": "stream",
     "text": [
      "Exception in Tkinter callback\n",
      "Traceback (most recent call last):\n",
      "  File \"C:\\Users\\beton\\AppData\\Local\\Programs\\Python\\Python39\\lib\\tkinter\\__init__.py\", line 1889, in __call__\n",
      "    try:\n",
      "KeyboardInterrupt\n"
     ]
    },
    {
     "name": "stdout",
     "output_type": "stream",
     "text": [
      "1/1 [==============================] - 0s 14ms/step\n"
     ]
    }
   ],
   "source": [
    "# dqn_second.model.load_weights('D:\\Xagents_DQN\\dqnagent-second2')\n",
    "human = Human(1)\n",
    "dqn_first.is_learning = False\n",
    "results = play_games(lambda: TicTacToeGame(), [dqn_first,human], 2, plot=False)\n",
    "dqn_first.is_learning = True\n",
    "plot_game_results(results, 2)\n",
    "pass\n",
    "# dqn_second.model.save_weights('D:\\Xagents_DQN\\dqnagent-second2')"
   ]
  },
  {
   "cell_type": "markdown",
   "metadata": {},
   "source": [
    "DQN1 vs Human ---------------"
   ]
  },
  {
   "cell_type": "code",
   "execution_count": null,
   "metadata": {
    "tags": []
   },
   "outputs": [],
   "source": [
    "# dqn_second.model.load_weights('D:\\Xagents_DQN\\dqnagent-second2')\n",
    "human = Human(0)\n",
    "dqn_second.is_learning = False\n",
    "results = play_games(lambda: TicTacToeGame(), [human,dqn_second], 3, plot=False)\n",
    "dqn_second.is_learning = True\n",
    "plot_game_results(results, 2)\n",
    "\n",
    "# dqn_second.model.save_weights('D:\\Xagents_DQN\\dqnagent-second2')\n",
    "\n",
    "pass"
   ]
  },
  {
   "cell_type": "markdown",
   "metadata": {},
   "source": [
    "TRAIN ONLY ( DQN1 vs DQN2)"
   ]
  },
  {
   "cell_type": "code",
   "execution_count": 3,
   "metadata": {},
   "outputs": [
    {
     "ename": "TypeError",
     "evalue": "getRow() takes 6 positional arguments but 7 were given",
     "output_type": "error",
     "traceback": [
      "\u001B[1;31m---------------------------------------------------------------------------\u001B[0m",
      "\u001B[1;31mTypeError\u001B[0m                                 Traceback (most recent call last)",
      "Cell \u001B[1;32mIn[3], line 2\u001B[0m\n\u001B[0;32m      1\u001B[0m \u001B[38;5;28;01mfor\u001B[39;00m I \u001B[38;5;129;01min\u001B[39;00m \u001B[38;5;28mrange\u001B[39m(\u001B[38;5;241m150\u001B[39m):\n\u001B[1;32m----> 2\u001B[0m     results \u001B[38;5;241m=\u001B[39m \u001B[43mplay_games\u001B[49m\u001B[43m(\u001B[49m\u001B[38;5;28;43;01mlambda\u001B[39;49;00m\u001B[43m:\u001B[49m\u001B[43m \u001B[49m\u001B[43mTicTacToeGame\u001B[49m\u001B[43m(\u001B[49m\u001B[43m)\u001B[49m\u001B[43m,\u001B[49m\u001B[43m \u001B[49m\u001B[43m[\u001B[49m\u001B[43mdqn_first\u001B[49m\u001B[43m,\u001B[49m\u001B[43m \u001B[49m\u001B[43mrandomAgent\u001B[49m\u001B[43m]\u001B[49m\u001B[43m,\u001B[49m\u001B[43m \u001B[49m\u001B[38;5;241;43m1500\u001B[39;49m\u001B[43m,\u001B[49m\u001B[43m \u001B[49m\u001B[43mplot\u001B[49m\u001B[43m \u001B[49m\u001B[38;5;241;43m=\u001B[39;49m\u001B[43m \u001B[49m\u001B[38;5;28;43;01mTrue\u001B[39;49;00m\u001B[43m)\u001B[49m\n\u001B[0;32m      3\u001B[0m     \u001B[38;5;28mprint\u001B[39m(\u001B[38;5;124m\"\u001B[39m\u001B[38;5;124mepoka: \u001B[39m\u001B[38;5;124m\"\u001B[39m \u001B[38;5;241m+\u001B[39m \u001B[38;5;28mstr\u001B[39m(I) \u001B[38;5;241m+\u001B[39m \u001B[38;5;124m\"\u001B[39m\u001B[38;5;124m   ---->\u001B[39m\u001B[38;5;124m\"\u001B[39m)\n\u001B[0;32m      4\u001B[0m     plot_game_results(results, \u001B[38;5;241m2\u001B[39m)\n",
      "File \u001B[1;32m~\\PycharmProjects\\ox5-ts\\game\\utils.py:34\u001B[0m, in \u001B[0;36mplay_games\u001B[1;34m(create_game, agents, n_games, debug, plot, plot_window, plot_update_n_games)\u001B[0m\n\u001B[0;32m     32\u001B[0m \u001B[38;5;28;01mfor\u001B[39;00m i \u001B[38;5;129;01min\u001B[39;00m \u001B[38;5;28mrange\u001B[39m(n_games):\n\u001B[0;32m     33\u001B[0m     game \u001B[38;5;241m=\u001B[39m create_game()\n\u001B[1;32m---> 34\u001B[0m     winners \u001B[38;5;241m=\u001B[39m \u001B[43mplay_game\u001B[49m\u001B[43m(\u001B[49m\u001B[43mgame\u001B[49m\u001B[43m,\u001B[49m\u001B[43m \u001B[49m\u001B[43magents\u001B[49m\u001B[43m)\u001B[49m\n\u001B[0;32m     35\u001B[0m     \u001B[38;5;28;01mif\u001B[39;00m \u001B[38;5;28mlen\u001B[39m(winners) \u001B[38;5;241m>\u001B[39m \u001B[38;5;241m1\u001B[39m:\n\u001B[0;32m     36\u001B[0m         results\u001B[38;5;241m.\u001B[39mappend(\u001B[38;5;241m-\u001B[39m\u001B[38;5;241m1\u001B[39m)\n",
      "File \u001B[1;32m~\\PycharmProjects\\ox5-ts\\game\\utils.py:15\u001B[0m, in \u001B[0;36mplay_game\u001B[1;34m(game, agents)\u001B[0m\n\u001B[0;32m     12\u001B[0m \u001B[38;5;28;01mfor\u001B[39;00m agent \u001B[38;5;129;01min\u001B[39;00m agents:\n\u001B[0;32m     13\u001B[0m     agent\u001B[38;5;241m.\u001B[39mnew_game(game)\n\u001B[1;32m---> 15\u001B[0m \u001B[38;5;28;01mwhile\u001B[39;00m \u001B[38;5;129;01mnot\u001B[39;00m \u001B[43magents\u001B[49m\u001B[43m[\u001B[49m\u001B[43mgame\u001B[49m\u001B[38;5;241;43m.\u001B[39;49m\u001B[43mget_current_agent\u001B[49m\u001B[43m(\u001B[49m\u001B[43m)\u001B[49m\u001B[43m]\u001B[49m\u001B[38;5;241;43m.\u001B[39;49m\u001B[43mnext\u001B[49m\u001B[43m(\u001B[49m\u001B[43mgame\u001B[49m\u001B[43m)\u001B[49m:\n\u001B[0;32m     16\u001B[0m     \u001B[38;5;66;03m# print(game.__str__())\u001B[39;00m\n\u001B[0;32m     17\u001B[0m     \u001B[38;5;28;01mpass\u001B[39;00m\n\u001B[0;32m     19\u001B[0m \u001B[38;5;28mprint\u001B[39m(game\u001B[38;5;241m.\u001B[39m\u001B[38;5;21m__str__\u001B[39m())\n",
      "File \u001B[1;32m~\\PycharmProjects\\ox5-ts\\game\\agents\\dqn.py:319\u001B[0m, in \u001B[0;36mDQNAgent.next\u001B[1;34m(self, game)\u001B[0m\n\u001B[0;32m    316\u001B[0m \u001B[38;5;28;01mdef\u001B[39;00m \u001B[38;5;21mnext\u001B[39m(\u001B[38;5;28mself\u001B[39m, game: TicTacToeGame) \u001B[38;5;241m-\u001B[39m\u001B[38;5;241m>\u001B[39m \u001B[38;5;28mbool\u001B[39m:\n\u001B[0;32m    317\u001B[0m     \u001B[38;5;66;03m# Store previous action in action log.\u001B[39;00m\n\u001B[0;32m    318\u001B[0m     \u001B[38;5;66;03m# that is why we commit here and in end_game().\u001B[39;00m\n\u001B[1;32m--> 319\u001B[0m     \u001B[38;5;28;43mself\u001B[39;49m\u001B[38;5;241;43m.\u001B[39;49m\u001B[43mcommit_log\u001B[49m\u001B[43m(\u001B[49m\u001B[43mgame\u001B[49m\u001B[43m,\u001B[49m\u001B[43m \u001B[49m\u001B[38;5;28;43;01mFalse\u001B[39;49;00m\u001B[43m)\u001B[49m\n\u001B[0;32m    321\u001B[0m     \u001B[38;5;28;01mif\u001B[39;00m \u001B[38;5;28mself\u001B[39m\u001B[38;5;241m.\u001B[39mis_learning \u001B[38;5;129;01mand\u001B[39;00m (\n\u001B[0;32m    322\u001B[0m             \u001B[38;5;28mself\u001B[39m\u001B[38;5;241m.\u001B[39mnum_games \u001B[38;5;241m<\u001B[39m \u001B[38;5;28mself\u001B[39m\u001B[38;5;241m.\u001B[39mpre_training_games \u001B[38;5;129;01mor\u001B[39;00m\n\u001B[0;32m    323\u001B[0m             random\u001B[38;5;241m.\u001B[39muniform(\u001B[38;5;241m0\u001B[39m, \u001B[38;5;241m1\u001B[39m) \u001B[38;5;241m<\u001B[39m lerp([\u001B[38;5;28mself\u001B[39m\u001B[38;5;241m.\u001B[39mepsilon, \u001B[38;5;28mself\u001B[39m\u001B[38;5;241m.\u001B[39mepsilon_end], \u001B[38;5;28mmax\u001B[39m(\u001B[38;5;241m0\u001B[39m,\n\u001B[0;32m    324\u001B[0m                                                                               \u001B[38;5;28mself\u001B[39m\u001B[38;5;241m.\u001B[39mnum_games \u001B[38;5;241m-\u001B[39m \u001B[38;5;28mself\u001B[39m\u001B[38;5;241m.\u001B[39mpre_training_games) \u001B[38;5;241m*\u001B[39m \u001B[38;5;28mself\u001B[39m\u001B[38;5;241m.\u001B[39mepsilon_decay_linear)\n\u001B[0;32m    325\u001B[0m     ):\n\u001B[0;32m    326\u001B[0m         action \u001B[38;5;241m=\u001B[39m random\u001B[38;5;241m.\u001B[39mchoice(game\u001B[38;5;241m.\u001B[39mget_legal_actions(\u001B[38;5;28mself\u001B[39m\u001B[38;5;241m.\u001B[39mi_agent))\n",
      "File \u001B[1;32m~\\PycharmProjects\\ox5-ts\\game\\agents\\dqn.py:266\u001B[0m, in \u001B[0;36mDQNAgent.commit_log\u001B[1;34m(self, game, done)\u001B[0m\n\u001B[0;32m    264\u001B[0m state, i_action \u001B[38;5;241m=\u001B[39m \u001B[38;5;28mself\u001B[39m\u001B[38;5;241m.\u001B[39mstage\n\u001B[0;32m    265\u001B[0m next_state \u001B[38;5;241m=\u001B[39m \u001B[38;5;28mself\u001B[39m\u001B[38;5;241m.\u001B[39mget_model_inputs(game)\u001B[38;5;241m.\u001B[39mcopy()\n\u001B[1;32m--> 266\u001B[0m reward \u001B[38;5;241m=\u001B[39m \u001B[38;5;28;43mself\u001B[39;49m\u001B[38;5;241;43m.\u001B[39;49m\u001B[43mget_reward\u001B[49m\u001B[43m(\u001B[49m\u001B[43mgame\u001B[49m\u001B[43m,\u001B[49m\u001B[43m \u001B[49m\u001B[43mi_action\u001B[49m\u001B[43m)\u001B[49m\n\u001B[0;32m    267\u001B[0m \u001B[38;5;28mself\u001B[39m\u001B[38;5;241m.\u001B[39mgame_log\u001B[38;5;241m.\u001B[39mappend((state, i_action, reward, next_state, done))\n\u001B[0;32m    268\u001B[0m \u001B[38;5;28mself\u001B[39m\u001B[38;5;241m.\u001B[39mstage \u001B[38;5;241m=\u001B[39m \u001B[38;5;28;01mNone\u001B[39;00m\n",
      "File \u001B[1;32m~\\PycharmProjects\\ox5-ts\\game\\agents\\dqn.py:110\u001B[0m, in \u001B[0;36mDQNAgent.get_reward\u001B[1;34m(self, game, i_action)\u001B[0m\n\u001B[0;32m    108\u001B[0m         \u001B[38;5;28;01mreturn\u001B[39;00m \u001B[38;5;28mself\u001B[39m\u001B[38;5;241m.\u001B[39mreward_loss\n\u001B[0;32m    109\u001B[0m \u001B[38;5;28;01melse\u001B[39;00m:\n\u001B[1;32m--> 110\u001B[0m     \u001B[38;5;28;01mreturn\u001B[39;00m \u001B[38;5;28;43mself\u001B[39;49m\u001B[38;5;241;43m.\u001B[39;49m\u001B[43maward2\u001B[49m\u001B[43m(\u001B[49m\u001B[43mgame\u001B[49m\u001B[38;5;241;43m.\u001B[39;49m\u001B[43mboard\u001B[49m\u001B[38;5;241;43m.\u001B[39;49m\u001B[43mtolist\u001B[49m\u001B[43m(\u001B[49m\u001B[43m)\u001B[49m\u001B[43m,\u001B[49m\u001B[43m \u001B[49m\u001B[43mi_action\u001B[49m\u001B[43m,\u001B[49m\u001B[43mgame\u001B[49m\u001B[38;5;241;43m.\u001B[39;49m\u001B[43mboard\u001B[49m\u001B[43m[\u001B[49m\u001B[43mi_action\u001B[49m\u001B[43m]\u001B[49m\u001B[43m \u001B[49m\u001B[43m)\u001B[49m\n",
      "File \u001B[1;32m~\\PycharmProjects\\ox5-ts\\game\\agents\\dqn.py:170\u001B[0m, in \u001B[0;36mDQNAgent.award2\u001B[1;34m(self, tab, cell, agent)\u001B[0m\n\u001B[0;32m    167\u001B[0m mi \u001B[38;5;241m=\u001B[39m cell \u001B[38;5;241m/\u001B[39m\u001B[38;5;241m/\u001B[39m BOARD_DIM \u001B[38;5;241m*\u001B[39m BOARD_DIM\n\u001B[0;32m    168\u001B[0m award \u001B[38;5;241m=\u001B[39m \u001B[38;5;241m0\u001B[39m\n\u001B[1;32m--> 170\u001B[0m award \u001B[38;5;241m+\u001B[39m\u001B[38;5;241m=\u001B[39m \u001B[38;5;28;43mself\u001B[39;49m\u001B[38;5;241;43m.\u001B[39;49m\u001B[43mgetRow\u001B[49m\u001B[43m(\u001B[49m\u001B[38;5;28;43mself\u001B[39;49m\u001B[38;5;241;43m.\u001B[39;49m\u001B[43mmini\u001B[49m\u001B[43m(\u001B[49m\u001B[43mcell\u001B[49m\u001B[43m \u001B[49m\u001B[38;5;241;43m+\u001B[39;49m\u001B[43m \u001B[49m\u001B[38;5;241;43m1\u001B[39;49m\u001B[43m,\u001B[49m\u001B[43m \u001B[49m\u001B[43mmi\u001B[49m\u001B[43m)\u001B[49m\u001B[43m,\u001B[49m\u001B[43m \u001B[49m\u001B[38;5;28;43mself\u001B[39;49m\u001B[38;5;241;43m.\u001B[39;49m\u001B[43mmini\u001B[49m\u001B[43m(\u001B[49m\u001B[43mcell\u001B[49m\u001B[43m \u001B[49m\u001B[38;5;241;43m+\u001B[39;49m\u001B[43m \u001B[49m\u001B[38;5;241;43m2\u001B[39;49m\u001B[43m,\u001B[49m\u001B[43m \u001B[49m\u001B[43mmi\u001B[49m\u001B[43m)\u001B[49m\u001B[43m,\u001B[49m\u001B[43m \u001B[49m\u001B[38;5;28;43mself\u001B[39;49m\u001B[38;5;241;43m.\u001B[39;49m\u001B[43mmini\u001B[49m\u001B[43m(\u001B[49m\u001B[43mcell\u001B[49m\u001B[43m \u001B[49m\u001B[38;5;241;43m+\u001B[39;49m\u001B[43m \u001B[49m\u001B[38;5;241;43m3\u001B[39;49m\u001B[43m,\u001B[49m\u001B[43m \u001B[49m\u001B[43mmi\u001B[49m\u001B[43m)\u001B[49m\u001B[43m,\u001B[49m\n\u001B[0;32m    171\u001B[0m \u001B[43m                \u001B[49m\u001B[38;5;28;43mself\u001B[39;49m\u001B[38;5;241;43m.\u001B[39;49m\u001B[43mmini\u001B[49m\u001B[43m(\u001B[49m\u001B[43mcell\u001B[49m\u001B[43m \u001B[49m\u001B[38;5;241;43m+\u001B[39;49m\u001B[43m \u001B[49m\u001B[38;5;241;43m4\u001B[39;49m\u001B[43m,\u001B[49m\u001B[43m \u001B[49m\u001B[43mmi\u001B[49m\u001B[43m)\u001B[49m\u001B[43m,\u001B[49m\u001B[43m \u001B[49m\u001B[43mtab\u001B[49m\u001B[43m,\u001B[49m\u001B[43m \u001B[49m\u001B[43magent\u001B[49m\u001B[43m)\u001B[49m\n\u001B[0;32m    172\u001B[0m award \u001B[38;5;241m+\u001B[39m\u001B[38;5;241m=\u001B[39m \u001B[38;5;28mself\u001B[39m\u001B[38;5;241m.\u001B[39mgetRow(\u001B[38;5;28mself\u001B[39m\u001B[38;5;241m.\u001B[39mmaxi(cell \u001B[38;5;241m-\u001B[39m \u001B[38;5;241m1\u001B[39m, mi), \u001B[38;5;28mself\u001B[39m\u001B[38;5;241m.\u001B[39mmaxi(cell \u001B[38;5;241m-\u001B[39m \u001B[38;5;241m2\u001B[39m, mi), \u001B[38;5;28mself\u001B[39m\u001B[38;5;241m.\u001B[39mmaxi(cell \u001B[38;5;241m-\u001B[39m \u001B[38;5;241m3\u001B[39m, mi),\n\u001B[0;32m    173\u001B[0m                 \u001B[38;5;28mself\u001B[39m\u001B[38;5;241m.\u001B[39mmaxi(cell \u001B[38;5;241m-\u001B[39m \u001B[38;5;241m4\u001B[39m, mi), tab, agent)\n\u001B[0;32m    174\u001B[0m award \u001B[38;5;241m+\u001B[39m\u001B[38;5;241m=\u001B[39m \u001B[38;5;28mself\u001B[39m\u001B[38;5;241m.\u001B[39mgetRow(\u001B[38;5;28mself\u001B[39m\u001B[38;5;241m.\u001B[39mmini(cell \u001B[38;5;241m+\u001B[39m BOARD_DIM, \u001B[38;5;28mself\u001B[39m\u001B[38;5;241m.\u001B[39mmaxLen2), \u001B[38;5;28mself\u001B[39m\u001B[38;5;241m.\u001B[39mmini(cell \u001B[38;5;241m+\u001B[39m \u001B[38;5;241m2\u001B[39m \u001B[38;5;241m*\u001B[39m BOARD_DIM, \u001B[38;5;28mself\u001B[39m\u001B[38;5;241m.\u001B[39mmaxLen2),\n\u001B[0;32m    175\u001B[0m                 \u001B[38;5;28mself\u001B[39m\u001B[38;5;241m.\u001B[39mmini(cell \u001B[38;5;241m+\u001B[39m \u001B[38;5;241m3\u001B[39m \u001B[38;5;241m*\u001B[39m BOARD_DIM, \u001B[38;5;28mself\u001B[39m\u001B[38;5;241m.\u001B[39mmaxLen2), \u001B[38;5;28mself\u001B[39m\u001B[38;5;241m.\u001B[39mmini(cell \u001B[38;5;241m+\u001B[39m \u001B[38;5;241m4\u001B[39m \u001B[38;5;241m*\u001B[39m BOARD_DIM, \u001B[38;5;28mself\u001B[39m\u001B[38;5;241m.\u001B[39mmaxLen2),\n\u001B[0;32m    176\u001B[0m                 tab, agent)\n",
      "\u001B[1;31mTypeError\u001B[0m: getRow() takes 6 positional arguments but 7 were given"
     ]
    }
   ],
   "source": [
    "for I in range(150):\n",
    "    results = play_games(lambda: TicTacToeGame(), [dqn_first, randomAgent], 1500, plot = True)\n",
    "    print(\"epoka: \" + str(I) + \"   ---->\")\n",
    "    plot_game_results(results, 2)\n",
    "    dqn_first.saveModel(path_model1)\n",
    "    # break\n",
    "pass"
   ]
  },
  {
   "cell_type": "markdown",
   "metadata": {},
   "source": [
    "SAVE MODELS"
   ]
  },
  {
   "cell_type": "code",
   "execution_count": null,
   "metadata": {},
   "outputs": [],
   "source": [
    "dqn_first.model.save_weights('D:\\Xagents_DQN\\dqnagent-first1')\n",
    "dqn_second.model.save_weights('D:\\Xagents_DQN\\dqnagent-second2')\n",
    "pass\n",
    "# dqn_second = DQNAgent(1)\n",
    "# agents = [RandomAgent(0), dqn_second]\n",
    "# play_games(lambda: TicTacToeGame(), agents, 5, plot=True)\n",
    "# dqn_second.is_learning = False\n",
    "# print(\"Against random agent:\")\n",
    "# play_games(lambda: TicTacToeGame(), [RandomAgent(0), dqn_second], 1, debug=True)\n",
    "# print(\"Against min-max agent:\")\n",
    "# play_games(lambda: TicTacToeGame(), [MinMaxAgent(0), dqn_second], 1, debug=True)\n",
    "# pass"
   ]
  },
  {
   "cell_type": "markdown",
   "metadata": {},
   "source": []
  },
  {
   "cell_type": "code",
   "execution_count": null,
   "metadata": {},
   "outputs": [],
   "source": [
    "dqn_first.model.summary()\n",
    "dqn_second.model.summary()\n",
    "# dqn_second.is_learning = True\n",
    "# agents = [MinMaxAgent(0), dqn_second]\n",
    "# play_games(lambda: TicTacToeGame(), agents, 5000, plot=True)\n",
    "# dqn_first.model.save('dqnagent-second')\n",
    "# dqn_first.is_learning = False\n",
    "# print(\"Against random agent:\")\n",
    "# play_games(lambda: TicTacToeGame(), [RandomAgent(0), dqn_second], 1000, debug=True)\n",
    "# print(\"Against min-max agent:\")\n",
    "# play_games(lambda: TicTacToeGame(), [MinMaxAgent(0), dqn_second], 1000, debug=True)\n",
    "# pass"
   ]
  },
  {
   "cell_type": "code",
   "execution_count": null,
   "metadata": {},
   "outputs": [],
   "source": [
    "dqn_first.is_learning = False\n",
    "dqn_second.is_learning = False\n",
    "agents = [dqn_first, dqn_second]\n",
    "game = TicTacToeGame()\n",
    "while not agents[game.get_current_agent()].next(game):\n",
    "    print(game)\n",
    "    print()\n",
    "print(game)"
   ]
  },
  {
   "cell_type": "code",
   "execution_count": null,
   "metadata": {},
   "outputs": [],
   "source": []
  },
  {
   "cell_type": "code",
   "execution_count": null,
   "metadata": {},
   "outputs": [],
   "source": []
  },
  {
   "cell_type": "code",
   "execution_count": null,
   "metadata": {},
   "outputs": [],
   "source": []
  }
 ],
 "metadata": {
  "kernelspec": {
   "display_name": "Python 3 (ipykernel)",
   "language": "python",
   "name": "python3"
  },
  "language_info": {
   "codemirror_mode": {
    "name": "ipython",
    "version": 3
   },
   "file_extension": ".py",
   "mimetype": "text/x-python",
   "name": "python",
   "nbconvert_exporter": "python",
   "pygments_lexer": "ipython3",
   "version": "3.9.13"
  }
 },
 "nbformat": 4,
 "nbformat_minor": 2
}
